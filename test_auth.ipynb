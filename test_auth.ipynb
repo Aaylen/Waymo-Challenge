{
 "cells": [
  {
   "cell_type": "code",
   "execution_count": 3,
   "metadata": {},
   "outputs": [
    {
     "name": "stdout",
     "output_type": "stream",
     "text": [
      "🔗 Go to this URL:\n",
      " https://accounts.google.com/o/oauth2/auth?response_type=code&client_id=6717835038-srvt7mfdgh66ubjj5636uk0d7e2ipken.apps.googleusercontent.com&redirect_uri=http%3A%2F%2Flocalhost%3A8080&scope=https%3A%2F%2Fwww.googleapis.com%2Fauth%2Fcloud-platform&state=gFMHVDnDA6o58zhatCeUCndhzupErS&prompt=consent&access_type=offline\n",
      "✅ Listing files in bucket...\n",
      "['waymo_open_dataset_motion_v_1_3_0/uncompressed']\n"
     ]
    }
   ],
   "source": [
    "from google_auth_oauthlib.flow import InstalledAppFlow\n",
    "from google.auth.transport.requests import Request\n",
    "from google.oauth2.credentials import Credentials\n",
    "import gcsfs\n",
    "import json\n",
    "import os\n",
    "\n",
    "CLIENT_SECRET_FILE = \"client_secrets.json\"\n",
    "TOKEN_FILE = \"token1.json\"\n",
    "SCOPES = [\"https://www.googleapis.com/auth/cloud-platform\"]\n",
    "\n",
    "# Step 1: Try to load existing token\n",
    "creds = None\n",
    "if os.path.exists(TOKEN_FILE):\n",
    "    creds = Credentials.from_authorized_user_file(TOKEN_FILE, SCOPES)\n",
    "\n",
    "# Step 2: If no (valid) creds, do manual auth\n",
    "if not creds or not creds.valid:\n",
    "    if creds and creds.expired and creds.refresh_token:\n",
    "        creds.refresh(Request())\n",
    "    else:\n",
    "        flow = InstalledAppFlow.from_client_secrets_file(CLIENT_SECRET_FILE, SCOPES)\n",
    "        \n",
    "        # Ensure the correct redirect URI is used\n",
    "        flow.redirect_uri = 'http://localhost:8080'  # Ensure this matches what you set in GCP console\n",
    "\n",
    "        auth_url, _ = flow.authorization_url(prompt='consent')\n",
    "\n",
    "        print(\"🔗 Go to this URL:\\n\", auth_url)\n",
    "        code = input(\"📋 Paste the authorization code here: \")\n",
    "        flow.fetch_token(code=code)\n",
    "        creds = flow.credentials\n",
    "\n",
    "        # Save token for future use\n",
    "        with open(TOKEN_FILE, \"w\") as token:\n",
    "            token.write(creds.to_json())\n",
    "\n",
    "# Step 3: Use GCSFS with your personal creds\n",
    "fs = gcsfs.GCSFileSystem(token=creds)\n",
    "\n",
    "# Example: list files in the bucket\n",
    "print(\"✅ Listing files in bucket...\")\n",
    "print(fs.ls(\"waymo_open_dataset_motion_v_1_3_0\"))\n"
   ]
  }
 ],
 "metadata": {
  "kernelspec": {
   "display_name": "my_env",
   "language": "python",
   "name": "python3"
  },
  "language_info": {
   "codemirror_mode": {
    "name": "ipython",
    "version": 3
   },
   "file_extension": ".py",
   "mimetype": "text/x-python",
   "name": "python",
   "nbconvert_exporter": "python",
   "pygments_lexer": "ipython3",
   "version": "3.10.6"
  }
 },
 "nbformat": 4,
 "nbformat_minor": 2
}
